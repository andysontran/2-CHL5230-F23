{
  "nbformat": 4,
  "nbformat_minor": 0,
  "metadata": {
    "colab": {
      "provenance": [],
      "authorship_tag": "ABX9TyNKnO7qLPMUv7Wwa+8qt2Mq",
      "include_colab_link": true
    },
    "kernelspec": {
      "name": "python3",
      "display_name": "Python 3"
    },
    "language_info": {
      "name": "python"
    }
  },
  "cells": [
    {
      "cell_type": "markdown",
      "metadata": {
        "id": "view-in-github",
        "colab_type": "text"
      },
      "source": [
        "<a href=\"https://colab.research.google.com/github/andysontran/2-CHL5230-F23/blob/main/2_CHL5230_F23.ipynb\" target=\"_parent\"><img src=\"https://colab.research.google.com/assets/colab-badge.svg\" alt=\"Open In Colab\"/></a>"
      ]
    },
    {
      "cell_type": "code",
      "execution_count": null,
      "metadata": {
        "id": "5p4l2Ky7PLa1"
      },
      "outputs": [],
      "source": [
        "# Mount Google Drive\n",
        "from google.colab import drive\n",
        "drive.mount('/content/drive')\n",
        "\n",
        "# Clone files on repository to Drive\n",
        "!git clone https://github.com/andysontran/2-CHL5230-F23.git\n",
        "\n",
        "# Set working directory\n",
        "%cd 2-CHL5230-F23/"
      ]
    },
    {
      "cell_type": "code",
      "source": [
        "# Read CSV file into Pandas df\n",
        "import pandas as pd\n",
        "\n",
        "df = pd.read_csv('dataset.csv')\n",
        "df.head()"
      ],
      "metadata": {
        "id": "iubAawWKVVeR"
      },
      "execution_count": null,
      "outputs": []
    },
    {
      "cell_type": "markdown",
      "source": [
        "**Dataframe characteristics:**\n",
        "\n",
        "*   1465 rows, 12 columns\n",
        "*   Columns: age (range: 14-73), gender (1-2), air pollution (1-8), alcohol usage (1-8), genetic risk (1-7), lung disease (1-7), obesity (1-7), smoking (1-8), passive smoker (1-8), chest pain (1-9), coughing of blood (1-9), severity (1-3)\n",
        "*   Missing values = 0\n",
        "\n"
      ],
      "metadata": {
        "id": "zBqvgaT5XEez"
      }
    },
    {
      "cell_type": "code",
      "source": [
        "# Get shape of df\n",
        "print(df.shape)"
      ],
      "metadata": {
        "id": "XB758FZbVlXS"
      },
      "execution_count": null,
      "outputs": []
    },
    {
      "cell_type": "code",
      "source": [
        "# List columns of df\n",
        "print(df.columns)"
      ],
      "metadata": {
        "id": "cE41jzxtWv9E"
      },
      "execution_count": null,
      "outputs": []
    },
    {
      "cell_type": "code",
      "source": [
        "# Display summary statistics\n",
        "print(df.describe())"
      ],
      "metadata": {
        "id": "6Z-AH9VrWzl3"
      },
      "execution_count": null,
      "outputs": []
    },
    {
      "cell_type": "code",
      "source": [
        "# Check for missing values in each column\n",
        "print(df.isnull().sum())"
      ],
      "metadata": {
        "id": "AqMM3ckjW500"
      },
      "execution_count": null,
      "outputs": []
    },
    {
      "cell_type": "markdown",
      "source": [
        "*Visualizing the Distribution*"
      ],
      "metadata": {
        "id": "0FwNlNfbXB_x"
      }
    },
    {
      "cell_type": "code",
      "source": [
        "# Import necessary libraries\n",
        "import matplotlib.pyplot as plt\n",
        "import seaborn as sns\n",
        "\n",
        "# Set the style for seaborn\n",
        "sns.set_style('whitegrid')\n",
        "\n",
        "# Set feature to visualize\n",
        "var = 'Age'\n",
        "\n",
        "# Create a histogram for the 'var' feature\n",
        "plt.figure(figsize=(9,5))\n",
        "sns.histplot(df[var], kde=False, color='#66378a')\n",
        "plt.title('Distribution of ' + var)\n",
        "plt.xlabel(var)\n",
        "plt.ylabel('Number of Users')\n",
        "plt.show()"
      ],
      "metadata": {
        "colab": {
          "base_uri": "https://localhost:8080/",
          "height": 487
        },
        "id": "P3r4sYtfYfmm",
        "outputId": "8c16a4f9-6e9c-448f-ea96-1cd3444cd979"
      },
      "execution_count": 13,
      "outputs": [
        {
          "output_type": "display_data",
          "data": {
            "text/plain": [
              "<Figure size 900x500 with 1 Axes>"
            ],
            "image/png": "[encoded data removed]"
          },
          "metadata": {}
        }
      ]
    }
  ]
}