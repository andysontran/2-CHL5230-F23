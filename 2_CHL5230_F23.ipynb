{
  "nbformat": 4,
  "nbformat_minor": 0,
  "metadata": {
    "colab": {
      "provenance": [],
      "history_visible": true,
      "authorship_tag": "ABX9TyNGLCn8PkbfDasKT27HvQSS",
      "include_colab_link": true
    },
    "kernelspec": {
      "name": "python3",
      "display_name": "Python 3"
    },
    "language_info": {
      "name": "python"
    }
  },
  "cells": [
    {
      "cell_type": "markdown",
      "metadata": {
        "id": "view-in-github",
        "colab_type": "text"
      },
      "source": [
        "<a href=\"https://colab.research.google.com/github/andysontran/2-CHL5230-F23/blob/main/2_CHL5230_F23.ipynb\" target=\"_parent\"><img src=\"https://colab.research.google.com/assets/colab-badge.svg\" alt=\"Open In Colab\"/></a>"
      ]
    },
    {
      "cell_type": "code",
      "execution_count": null,
      "metadata": {
        "id": "5p4l2Ky7PLa1"
      },
      "outputs": [],
      "source": [
        "# Mount Google Drive\n",
        "from google.colab import drive\n",
        "drive.mount('/content/drive')\n",
        "\n",
        "# Clone files on repository to Drive\n",
        "!git clone https://github.com/andysontran/2-CHL5230-F23.git\n",
        "\n",
        "# Set working directory\n",
        "%cd 2-CHL5230-F23/"
      ]
    },
    {
      "cell_type": "code",
      "source": [
        "# Read CSV file into Pandas df\n",
        "import pandas as pd\n",
        "\n",
        "df = pd.read_csv('dataset.csv')\n",
        "df.head()"
      ],
      "metadata": {
        "id": "iubAawWKVVeR"
      },
      "execution_count": null,
      "outputs": []
    },
    {
      "cell_type": "markdown",
      "source": [
        "**Dataframe characteristics:**\n",
        "\n",
        "*   1465 rows, 12 columns\n",
        "*   Columns: age (range: 14-73), gender (1-2), air pollution (1-8), alcohol usage (1-8), genetic risk (1-7), lung disease (1-7), obesity (1-7), smoking (1-8), passive smoker (1-8), chest pain (1-9), coughing of blood (1-9), severity (0-3)\n",
        "*   Missing values = 0\n",
        "\n"
      ],
      "metadata": {
        "id": "zBqvgaT5XEez"
      }
    },
    {
      "cell_type": "code",
      "source": [
        "# Get shape of df\n",
        "print(df.shape)"
      ],
      "metadata": {
        "id": "XB758FZbVlXS"
      },
      "execution_count": null,
      "outputs": []
    },
    {
      "cell_type": "code",
      "source": [
        "# List columns of df\n",
        "print(df.columns)"
      ],
      "metadata": {
        "id": "cE41jzxtWv9E"
      },
      "execution_count": null,
      "outputs": []
    },
    {
      "cell_type": "code",
      "source": [
        "# Display summary statistics\n",
        "print(df.describe())"
      ],
      "metadata": {
        "id": "6Z-AH9VrWzl3"
      },
      "execution_count": null,
      "outputs": []
    },
    {
      "cell_type": "code",
      "source": [
        "# Check for missing values in each column\n",
        "print(df.isnull().sum())"
      ],
      "metadata": {
        "id": "AqMM3ckjW500"
      },
      "execution_count": null,
      "outputs": []
    },
    {
      "cell_type": "markdown",
      "source": [
        "*Visualizing the Distribution*"
      ],
      "metadata": {
        "id": "0FwNlNfbXB_x"
      }
    },
    {
      "cell_type": "code",
      "source": [
        "# Import necessary libraries\n",
        "import matplotlib.pyplot as plt\n",
        "\n",
        "# Create a histogram\n",
        "def draw_histograms(df, variables, n_rows, n_cols):\n",
        "  fig = plt.figure()\n",
        "  for i, var_name in enumerate(variables):\n",
        "    ax = fig.add_subplot(n_rows, n_cols, i+1)\n",
        "    df[var_name].hist(bins = 10, ax = ax)\n",
        "    ax.set_title(var_name + \" Distribution\")\n",
        "    ax.title.set_size(8)\n",
        "  fig.tight_layout()\n",
        "  plt.show()\n",
        "\n",
        "draw_histograms(df, df.columns, 3, 4)"
      ],
      "metadata": {
        "id": "P3r4sYtfYfmm"
      },
      "execution_count": null,
      "outputs": []
    },
    {
      "cell_type": "markdown",
      "source": [
        "**Implement K-NN with Scikit-Learn**"
      ],
      "metadata": {
        "id": "U0LfcK-HdumG"
      }
    },
    {
      "cell_type": "code",
      "source": [
        "# Import necessary libraries\n",
        "from sklearn.model_selection import train_test_split\n",
        "from sklearn.preprocessing import StandardScaler, LabelEncoder\n",
        "from sklearn.neighbors import KNeighborsClassifier\n",
        "from sklearn.metrics import classification_report, confusion_matrix\n",
        "\n",
        "# Preprocess data\n",
        "le = LabelEncoder()\n",
        "\n",
        "# Split data into features and label\n",
        "## Features: Age\tGender\tAir Pollution\tAlcohol Usage\tGenetic Risk\tLung Disease\n",
        "##           Obesity\tSmoking\tPassive Smoker\tChest Pain\tCoughing of Blood\n",
        "## Label:    Severity\n",
        "X = df[['Age','Gender','Air Pollution','Alcohol Usage','Genetic Risk',\n",
        "        'Lung Disease','Obesity','Smoking','Passive Smoker','Chest Pain',\n",
        "        'Coughing of Blood']]\n",
        "y = df['Severity']\n",
        "\n",
        "# Split data into training and testing sets\n",
        "X_train, X_test, y_train, y_test = train_test_split(X, y, test_size = 0.2,\n",
        "                                                    random_state = 42)\n",
        "\n",
        "# Scale features\n",
        "scaler = StandardScaler()\n",
        "X_train = scaler.fit_transform(X_train)\n",
        "X_test = scaler.transform(X_test)\n",
        "\n",
        "# Initialize K-NN classifier and fit the model\n",
        "knn = KNeighborsClassifier(n_neighbors = 4, metric = 'manhattan')   # Set K = 4\n",
        "knn.fit(X_train, y_train)\n",
        "\n",
        "# Predict using test data\n",
        "y_pred = knn.predict(X_test)\n",
        "\n",
        "# Evaluate the model\n",
        "print(confusion_matrix(y_test, y_pred))\n",
        "print(classification_report(y_test, y_pred))\n",
        "\n",
        "# Visualize K-NN results using confusion matrix heatmap\n",
        "import seaborn as sns\n",
        "import matplotlib.pyplot as plt\n",
        "\n",
        "# Get unique classes\n",
        "classes = df['Severity'].unique()\n",
        "\n",
        "# Plotting the confusion matrix\n",
        "sns.heatmap(confusion_matrix(y_test, y_pred, labels = classes), annot = True,\n",
        "            fmt = 'g', xticklabels = classes, yticklabels = classes)\n",
        "plt.xlabel('Predicted')\n",
        "plt.ylabel('Actual')\n",
        "plt.title('Confusion Matrix')\n",
        "plt.show()"
      ],
      "metadata": {
        "id": "tOXwrcNdbV7Q",
        "colab": {
          "base_uri": "https://localhost:8080/",
          "height": 740
        },
        "outputId": "82a9df4a-8c36-4c0c-fd85-5879e51cfd1e"
      },
      "execution_count": 51,
      "outputs": [
        {
          "output_type": "stream",
          "name": "stdout",
          "text": [
            "[[57  0  0  0]\n",
            " [ 0 58  0  0]\n",
            " [ 0  0 80  0]\n",
            " [ 6 12  0 80]]\n",
            "              precision    recall  f1-score   support\n",
            "\n",
            "           0       0.90      1.00      0.95        57\n",
            "           1       0.83      1.00      0.91        58\n",
            "           2       1.00      1.00      1.00        80\n",
            "           3       1.00      0.82      0.90        98\n",
            "\n",
            "    accuracy                           0.94       293\n",
            "   macro avg       0.93      0.95      0.94       293\n",
            "weighted avg       0.95      0.94      0.94       293\n",
            "\n"
          ]
        },
        {
          "output_type": "display_data",
          "data": {
            "text/plain": [
              "<Figure size 640x480 with 2 Axes>"
            ],
            "image/png": "[encoded data removed]"
          },
          "metadata": {}
        }
      ]
    }
  ]
}