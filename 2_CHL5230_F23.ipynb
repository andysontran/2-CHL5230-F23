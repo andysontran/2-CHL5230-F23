{
  "nbformat": 4,
  "nbformat_minor": 0,
  "metadata": {
    "colab": {
      "provenance": [],
      "include_colab_link": true
    },
    "kernelspec": {
      "name": "python3",
      "display_name": "Python 3"
    },
    "language_info": {
      "name": "python"
    }
  },
  "cells": [
    {
      "cell_type": "markdown",
      "metadata": {
        "id": "view-in-github",
        "colab_type": "text"
      },
      "source": [
        "<a href=\"https://colab.research.google.com/github/andysontran/2-CHL5230-F23/blob/main/2_CHL5230_F23.ipynb\" target=\"_parent\"><img src=\"https://colab.research.google.com/assets/colab-badge.svg\" alt=\"Open In Colab\"/></a>"
      ]
    },
    {
      "cell_type": "code",
      "execution_count": 1,
      "metadata": {
        "id": "5p4l2Ky7PLa1",
        "colab": {
          "base_uri": "https://localhost:8080/"
        },
        "outputId": "fe5d16ef-719c-4f83-f59c-968fdcad154f"
      },
      "outputs": [
        {
          "output_type": "stream",
          "name": "stdout",
          "text": [
            "Mounted at /content/drive\n",
            "Cloning into '2-CHL5230-F23'...\n",
            "remote: Enumerating objects: 56, done.\u001b[K\n",
            "remote: Counting objects: 100% (56/56), done.\u001b[K\n",
            "remote: Compressing objects: 100% (54/54), done.\u001b[K\n",
            "remote: Total 56 (delta 17), reused 0 (delta 0), pack-reused 0\u001b[K\n",
            "Receiving objects: 100% (56/56), 1.30 MiB | 3.82 MiB/s, done.\n",
            "Resolving deltas: 100% (17/17), done.\n",
            "/content/2-CHL5230-F23\n"
          ]
        }
      ],
      "source": [
        "# Mount Google Drive\n",
        "from google.colab import drive\n",
        "drive.mount('/content/drive')\n",
        "\n",
        "# Clone files on repository to Drive\n",
        "!git clone https://github.com/andysontran/2-CHL5230-F23.git\n",
        "\n",
        "# Set working directory\n",
        "%cd 2-CHL5230-F23/"
      ]
    },
    {
      "cell_type": "code",
      "source": [
        "# Read CSV file into Pandas df\n",
        "import pandas as pd\n",
        "\n",
        "df = pd.read_csv('dataset.csv')\n",
        "df.head()"
      ],
      "metadata": {
        "id": "iubAawWKVVeR",
        "colab": {
          "base_uri": "https://localhost:8080/",
          "height": 224
        },
        "outputId": "5d022fd2-12e1-4222-cdd7-aafb9214be41"
      },
      "execution_count": 2,
      "outputs": [
        {
          "output_type": "execute_result",
          "data": {
            "text/plain": [
              "   Age  Gender  Air Pollution  Alcohol Usage  Genetic Risk  Lung Disease  \\\n",
              "0   33       1              2              4             3             2   \n",
              "1   17       1              3              1             4             2   \n",
              "2   35       1              4              5             5             4   \n",
              "3   37       1              7              7             6             7   \n",
              "4   46       1              6              8             7             6   \n",
              "\n",
              "   Obesity  Smoking  Passive Smoker  Chest Pain  Coughing of Blood  Severity  \n",
              "0        4        3               2           2                  4         0  \n",
              "1        2        2               4           2                  3         1  \n",
              "2        7        2               3           4                  8         2  \n",
              "3        7        7               7           7                  8         2  \n",
              "4        7        8               7           7                  9         2  "
            ],
            "text/html": [
              "\n",
              "  <div id=\"df-9a569e93-7fe0-4a2a-bd75-0b03c0311c70\" class=\"colab-df-container\">\n",
              "    <div>\n",
              "<style scoped>\n",
              "    .dataframe tbody tr th:only-of-type {\n",
              "        vertical-align: middle;\n",
              "    }\n",
              "\n",
              "    .dataframe tbody tr th {\n",
              "        vertical-align: top;\n",
              "    }\n",
              "\n",
              "    .dataframe thead th {\n",
              "        text-align: right;\n",
              "    }\n",
              "</style>\n",
              "<table border=\"1\" class=\"dataframe\">\n",
              "  <thead>\n",
              "    <tr style=\"text-align: right;\">\n",
              "      <th></th>\n",
              "      <th>Age</th>\n",
              "      <th>Gender</th>\n",
              "      <th>Air Pollution</th>\n",
              "      <th>Alcohol Usage</th>\n",
              "      <th>Genetic Risk</th>\n",
              "      <th>Lung Disease</th>\n",
              "      <th>Obesity</th>\n",
              "      <th>Smoking</th>\n",
              "      <th>Passive Smoker</th>\n",
              "      <th>Chest Pain</th>\n",
              "      <th>Coughing of Blood</th>\n",
              "      <th>Severity</th>\n",
              "    </tr>\n",
              "  </thead>\n",
              "  <tbody>\n",
              "    <tr>\n",
              "      <th>0</th>\n",
              "      <td>33</td>\n",
              "      <td>1</td>\n",
              "      <td>2</td>\n",
              "      <td>4</td>\n",
              "      <td>3</td>\n",
              "      <td>2</td>\n",
              "      <td>4</td>\n",
              "      <td>3</td>\n",
              "      <td>2</td>\n",
              "      <td>2</td>\n",
              "      <td>4</td>\n",
              "      <td>0</td>\n",
              "    </tr>\n",
              "    <tr>\n",
              "      <th>1</th>\n",
              "      <td>17</td>\n",
              "      <td>1</td>\n",
              "      <td>3</td>\n",
              "      <td>1</td>\n",
              "      <td>4</td>\n",
              "      <td>2</td>\n",
              "      <td>2</td>\n",
              "      <td>2</td>\n",
              "      <td>4</td>\n",
              "      <td>2</td>\n",
              "      <td>3</td>\n",
              "      <td>1</td>\n",
              "    </tr>\n",
              "    <tr>\n",
              "      <th>2</th>\n",
              "      <td>35</td>\n",
              "      <td>1</td>\n",
              "      <td>4</td>\n",
              "      <td>5</td>\n",
              "      <td>5</td>\n",
              "      <td>4</td>\n",
              "      <td>7</td>\n",
              "      <td>2</td>\n",
              "      <td>3</td>\n",
              "      <td>4</td>\n",
              "      <td>8</td>\n",
              "      <td>2</td>\n",
              "    </tr>\n",
              "    <tr>\n",
              "      <th>3</th>\n",
              "      <td>37</td>\n",
              "      <td>1</td>\n",
              "      <td>7</td>\n",
              "      <td>7</td>\n",
              "      <td>6</td>\n",
              "      <td>7</td>\n",
              "      <td>7</td>\n",
              "      <td>7</td>\n",
              "      <td>7</td>\n",
              "      <td>7</td>\n",
              "      <td>8</td>\n",
              "      <td>2</td>\n",
              "    </tr>\n",
              "    <tr>\n",
              "      <th>4</th>\n",
              "      <td>46</td>\n",
              "      <td>1</td>\n",
              "      <td>6</td>\n",
              "      <td>8</td>\n",
              "      <td>7</td>\n",
              "      <td>6</td>\n",
              "      <td>7</td>\n",
              "      <td>8</td>\n",
              "      <td>7</td>\n",
              "      <td>7</td>\n",
              "      <td>9</td>\n",
              "      <td>2</td>\n",
              "    </tr>\n",
              "  </tbody>\n",
              "</table>\n",
              "</div>\n",
              "    <div class=\"colab-df-buttons\">\n",
              "\n",
              "  <div class=\"colab-df-container\">\n",
              "    <button class=\"colab-df-convert\" onclick=\"convertToInteractive('df-9a569e93-7fe0-4a2a-bd75-0b03c0311c70')\"\n",
              "            title=\"Convert this dataframe to an interactive table.\"\n",
              "            style=\"display:none;\">\n",
              "\n",
              "  <svg xmlns=\"http://www.w3.org/2000/svg\" height=\"24px\" viewBox=\"0 -960 960 960\">\n",
              "    <path d=\"M120-120v-720h720v720H120Zm60-500h600v-160H180v160Zm220 220h160v-160H400v160Zm0 220h160v-160H400v160ZM180-400h160v-160H180v160Zm440 0h160v-160H620v160ZM180-180h160v-160H180v160Zm440 0h160v-160H620v160Z\"/>\n",
              "  </svg>\n",
              "    </button>\n",
              "\n",
              "  <style>\n",
              "    .colab-df-container {\n",
              "      display:flex;\n",
              "      gap: 12px;\n",
              "    }\n",
              "\n",
              "    .colab-df-convert {\n",
              "      background-color: #E8F0FE;\n",
              "      border: none;\n",
              "      border-radius: 50%;\n",
              "      cursor: pointer;\n",
              "      display: none;\n",
              "      fill: #1967D2;\n",
              "      height: 32px;\n",
              "      padding: 0 0 0 0;\n",
              "      width: 32px;\n",
              "    }\n",
              "\n",
              "    .colab-df-convert:hover {\n",
              "      background-color: #E2EBFA;\n",
              "      box-shadow: 0px 1px 2px rgba(60, 64, 67, 0.3), 0px 1px 3px 1px rgba(60, 64, 67, 0.15);\n",
              "      fill: #174EA6;\n",
              "    }\n",
              "\n",
              "    .colab-df-buttons div {\n",
              "      margin-bottom: 4px;\n",
              "    }\n",
              "\n",
              "    [theme=dark] .colab-df-convert {\n",
              "      background-color: #3B4455;\n",
              "      fill: #D2E3FC;\n",
              "    }\n",
              "\n",
              "    [theme=dark] .colab-df-convert:hover {\n",
              "      background-color: #434B5C;\n",
              "      box-shadow: 0px 1px 3px 1px rgba(0, 0, 0, 0.15);\n",
              "      filter: drop-shadow(0px 1px 2px rgba(0, 0, 0, 0.3));\n",
              "      fill: #FFFFFF;\n",
              "    }\n",
              "  </style>\n",
              "\n",
              "    <script>\n",
              "      const buttonEl =\n",
              "        document.querySelector('#df-9a569e93-7fe0-4a2a-bd75-0b03c0311c70 button.colab-df-convert');\n",
              "      buttonEl.style.display =\n",
              "        google.colab.kernel.accessAllowed ? 'block' : 'none';\n",
              "\n",
              "      async function convertToInteractive(key) {\n",
              "        const element = document.querySelector('#df-9a569e93-7fe0-4a2a-bd75-0b03c0311c70');\n",
              "        const dataTable =\n",
              "          await google.colab.kernel.invokeFunction('convertToInteractive',\n",
              "                                                    [key], {});\n",
              "        if (!dataTable) return;\n",
              "\n",
              "        const docLinkHtml = 'Like what you see? Visit the ' +\n",
              "          '<a target=\"_blank\" href=https://colab.research.google.com/notebooks/data_table.ipynb>data table notebook</a>'\n",
              "          + ' to learn more about interactive tables.';\n",
              "        element.innerHTML = '';\n",
              "        dataTable['output_type'] = 'display_data';\n",
              "        await google.colab.output.renderOutput(dataTable, element);\n",
              "        const docLink = document.createElement('div');\n",
              "        docLink.innerHTML = docLinkHtml;\n",
              "        element.appendChild(docLink);\n",
              "      }\n",
              "    </script>\n",
              "  </div>\n",
              "\n",
              "\n",
              "<div id=\"df-89325af1-c9d2-4ea9-bd09-fb3a35f0f424\">\n",
              "  <button class=\"colab-df-quickchart\" onclick=\"quickchart('df-89325af1-c9d2-4ea9-bd09-fb3a35f0f424')\"\n",
              "            title=\"Suggest charts.\"\n",
              "            style=\"display:none;\">\n",
              "\n",
              "<svg xmlns=\"http://www.w3.org/2000/svg\" height=\"24px\"viewBox=\"0 0 24 24\"\n",
              "     width=\"24px\">\n",
              "    <g>\n",
              "        <path d=\"M19 3H5c-1.1 0-2 .9-2 2v14c0 1.1.9 2 2 2h14c1.1 0 2-.9 2-2V5c0-1.1-.9-2-2-2zM9 17H7v-7h2v7zm4 0h-2V7h2v10zm4 0h-2v-4h2v4z\"/>\n",
              "    </g>\n",
              "</svg>\n",
              "  </button>\n",
              "\n",
              "<style>\n",
              "  .colab-df-quickchart {\n",
              "      --bg-color: #E8F0FE;\n",
              "      --fill-color: #1967D2;\n",
              "      --hover-bg-color: #E2EBFA;\n",
              "      --hover-fill-color: #174EA6;\n",
              "      --disabled-fill-color: #AAA;\n",
              "      --disabled-bg-color: #DDD;\n",
              "  }\n",
              "\n",
              "  [theme=dark] .colab-df-quickchart {\n",
              "      --bg-color: #3B4455;\n",
              "      --fill-color: #D2E3FC;\n",
              "      --hover-bg-color: #434B5C;\n",
              "      --hover-fill-color: #FFFFFF;\n",
              "      --disabled-bg-color: #3B4455;\n",
              "      --disabled-fill-color: #666;\n",
              "  }\n",
              "\n",
              "  .colab-df-quickchart {\n",
              "    background-color: var(--bg-color);\n",
              "    border: none;\n",
              "    border-radius: 50%;\n",
              "    cursor: pointer;\n",
              "    display: none;\n",
              "    fill: var(--fill-color);\n",
              "    height: 32px;\n",
              "    padding: 0;\n",
              "    width: 32px;\n",
              "  }\n",
              "\n",
              "  .colab-df-quickchart:hover {\n",
              "    background-color: var(--hover-bg-color);\n",
              "    box-shadow: 0 1px 2px rgba(60, 64, 67, 0.3), 0 1px 3px 1px rgba(60, 64, 67, 0.15);\n",
              "    fill: var(--button-hover-fill-color);\n",
              "  }\n",
              "\n",
              "  .colab-df-quickchart-complete:disabled,\n",
              "  .colab-df-quickchart-complete:disabled:hover {\n",
              "    background-color: var(--disabled-bg-color);\n",
              "    fill: var(--disabled-fill-color);\n",
              "    box-shadow: none;\n",
              "  }\n",
              "\n",
              "  .colab-df-spinner {\n",
              "    border: 2px solid var(--fill-color);\n",
              "    border-color: transparent;\n",
              "    border-bottom-color: var(--fill-color);\n",
              "    animation:\n",
              "      spin 1s steps(1) infinite;\n",
              "  }\n",
              "\n",
              "  @keyframes spin {\n",
              "    0% {\n",
              "      border-color: transparent;\n",
              "      border-bottom-color: var(--fill-color);\n",
              "      border-left-color: var(--fill-color);\n",
              "    }\n",
              "    20% {\n",
              "      border-color: transparent;\n",
              "      border-left-color: var(--fill-color);\n",
              "      border-top-color: var(--fill-color);\n",
              "    }\n",
              "    30% {\n",
              "      border-color: transparent;\n",
              "      border-left-color: var(--fill-color);\n",
              "      border-top-color: var(--fill-color);\n",
              "      border-right-color: var(--fill-color);\n",
              "    }\n",
              "    40% {\n",
              "      border-color: transparent;\n",
              "      border-right-color: var(--fill-color);\n",
              "      border-top-color: var(--fill-color);\n",
              "    }\n",
              "    60% {\n",
              "      border-color: transparent;\n",
              "      border-right-color: var(--fill-color);\n",
              "    }\n",
              "    80% {\n",
              "      border-color: transparent;\n",
              "      border-right-color: var(--fill-color);\n",
              "      border-bottom-color: var(--fill-color);\n",
              "    }\n",
              "    90% {\n",
              "      border-color: transparent;\n",
              "      border-bottom-color: var(--fill-color);\n",
              "    }\n",
              "  }\n",
              "</style>\n",
              "\n",
              "  <script>\n",
              "    async function quickchart(key) {\n",
              "      const quickchartButtonEl =\n",
              "        document.querySelector('#' + key + ' button');\n",
              "      quickchartButtonEl.disabled = true;  // To prevent multiple clicks.\n",
              "      quickchartButtonEl.classList.add('colab-df-spinner');\n",
              "      try {\n",
              "        const charts = await google.colab.kernel.invokeFunction(\n",
              "            'suggestCharts', [key], {});\n",
              "      } catch (error) {\n",
              "        console.error('Error during call to suggestCharts:', error);\n",
              "      }\n",
              "      quickchartButtonEl.classList.remove('colab-df-spinner');\n",
              "      quickchartButtonEl.classList.add('colab-df-quickchart-complete');\n",
              "    }\n",
              "    (() => {\n",
              "      let quickchartButtonEl =\n",
              "        document.querySelector('#df-89325af1-c9d2-4ea9-bd09-fb3a35f0f424 button');\n",
              "      quickchartButtonEl.style.display =\n",
              "        google.colab.kernel.accessAllowed ? 'block' : 'none';\n",
              "    })();\n",
              "  </script>\n",
              "</div>\n",
              "    </div>\n",
              "  </div>\n"
            ]
          },
          "metadata": {},
          "execution_count": 2
        }
      ]
    },
    {
      "cell_type": "markdown",
      "source": [
        "**Dataframe characteristics:**\n",
        "\n",
        "*   1465 rows, 12 columns\n",
        "*   Columns: age (range: 14-73), gender (1-2), air pollution (1-8), alcohol usage (1-8), genetic risk (1-7), lung disease (1-7), obesity (1-7), smoking (1-8), passive smoker (1-8), chest pain (1-9), coughing of blood (1-9), severity (0-3)\n",
        "*   Missing values = 0\n",
        "\n"
      ],
      "metadata": {
        "id": "zBqvgaT5XEez"
      }
    },
    {
      "cell_type": "code",
      "source": [
        "# Get shape of df\n",
        "print(df.shape)"
      ],
      "metadata": {
        "id": "XB758FZbVlXS",
        "colab": {
          "base_uri": "https://localhost:8080/"
        },
        "outputId": "3bce3739-7f53-4ebc-bc34-a82c8d095231"
      },
      "execution_count": 3,
      "outputs": [
        {
          "output_type": "stream",
          "name": "stdout",
          "text": [
            "(1465, 12)\n"
          ]
        }
      ]
    },
    {
      "cell_type": "code",
      "source": [
        "# List columns of df\n",
        "print(df.columns)"
      ],
      "metadata": {
        "id": "cE41jzxtWv9E",
        "colab": {
          "base_uri": "https://localhost:8080/"
        },
        "outputId": "85b036cc-eb76-4fb9-d73c-15475c38e54c"
      },
      "execution_count": 4,
      "outputs": [
        {
          "output_type": "stream",
          "name": "stdout",
          "text": [
            "Index(['Age', 'Gender', 'Air Pollution', 'Alcohol Usage', 'Genetic Risk',\n",
            "       'Lung Disease', 'Obesity', 'Smoking', 'Passive Smoker', 'Chest Pain',\n",
            "       'Coughing of Blood', 'Severity'],\n",
            "      dtype='object')\n"
          ]
        }
      ]
    },
    {
      "cell_type": "code",
      "source": [
        "# Display summary statistics\n",
        "print(df.describe())"
      ],
      "metadata": {
        "id": "6Z-AH9VrWzl3",
        "colab": {
          "base_uri": "https://localhost:8080/"
        },
        "outputId": "c0d1f5e8-72b4-47d8-e7e6-4151526e0416"
      },
      "execution_count": 5,
      "outputs": [
        {
          "output_type": "stream",
          "name": "stdout",
          "text": [
            "               Age       Gender  Air Pollution  Alcohol Usage  Genetic Risk  \\\n",
            "count  1465.000000  1465.000000    1465.000000    1465.000000   1465.000000   \n",
            "mean     37.238225     1.404778       3.958362       4.258020      3.892150   \n",
            "std      12.078575     0.491017       2.033272       2.564265      2.134635   \n",
            "min      14.000000     1.000000       1.000000       1.000000      1.000000   \n",
            "25%      28.000000     1.000000       2.000000       2.000000      2.000000   \n",
            "50%      36.000000     1.000000       4.000000       4.000000      3.000000   \n",
            "75%      45.000000     2.000000       6.000000       7.000000      6.000000   \n",
            "max      73.000000     2.000000       8.000000       8.000000      7.000000   \n",
            "\n",
            "       Lung Disease      Obesity      Smoking  Passive Smoker   Chest Pain  \\\n",
            "count   1465.000000  1465.000000  1465.000000     1465.000000  1465.000000   \n",
            "mean       3.741297     3.844369     3.425256        3.606826     3.817065   \n",
            "std        1.899984     2.072213     2.273040        2.148123     2.143897   \n",
            "min        1.000000     1.000000     1.000000        1.000000     1.000000   \n",
            "25%        2.000000     2.000000     2.000000        2.000000     2.000000   \n",
            "50%        3.000000     3.000000     3.000000        3.000000     3.000000   \n",
            "75%        6.000000     6.000000     5.000000        4.000000     6.000000   \n",
            "max        7.000000     7.000000     8.000000        8.000000     9.000000   \n",
            "\n",
            "       Coughing of Blood     Severity  \n",
            "count        1465.000000  1465.000000  \n",
            "mean            3.990444     1.677133  \n",
            "std             2.420860     1.126034  \n",
            "min             1.000000     0.000000  \n",
            "25%             2.000000     1.000000  \n",
            "50%             3.000000     2.000000  \n",
            "75%             7.000000     3.000000  \n",
            "max             9.000000     3.000000  \n"
          ]
        }
      ]
    },
    {
      "cell_type": "code",
      "source": [
        "# Check for missing values in each column\n",
        "print(df.isnull().sum())"
      ],
      "metadata": {
        "id": "AqMM3ckjW500",
        "colab": {
          "base_uri": "https://localhost:8080/"
        },
        "outputId": "1defd346-dd25-49d1-cec5-3e47581be16a"
      },
      "execution_count": 6,
      "outputs": [
        {
          "output_type": "stream",
          "name": "stdout",
          "text": [
            "Age                  0\n",
            "Gender               0\n",
            "Air Pollution        0\n",
            "Alcohol Usage        0\n",
            "Genetic Risk         0\n",
            "Lung Disease         0\n",
            "Obesity              0\n",
            "Smoking              0\n",
            "Passive Smoker       0\n",
            "Chest Pain           0\n",
            "Coughing of Blood    0\n",
            "Severity             0\n",
            "dtype: int64\n"
          ]
        }
      ]
    },
    {
      "cell_type": "markdown",
      "source": [
        "*Visualizing the Distribution*"
      ],
      "metadata": {
        "id": "0FwNlNfbXB_x"
      }
    },
    {
      "cell_type": "code",
      "source": [
        "# Import necessary libraries\n",
        "import matplotlib.pyplot as plt\n",
        "\n",
        "# Create a histogram\n",
        "def draw_histograms(df, variables, n_rows, n_cols):\n",
        "  fig = plt.figure()\n",
        "  for i, var_name in enumerate(variables):\n",
        "    ax = fig.add_subplot(n_rows, n_cols, i+1)\n",
        "    df[var_name].hist(bins = 10, ax = ax)\n",
        "    ax.set_title(var_name + \" Distribution\")\n",
        "    ax.title.set_size(8)\n",
        "  fig.tight_layout()\n",
        "  plt.show()\n",
        "\n",
        "draw_histograms(df, df.columns, 3, 4)"
      ],
      "metadata": {
        "id": "P3r4sYtfYfmm",
        "colab": {
          "base_uri": "https://localhost:8080/",
          "height": 487
        },
        "outputId": "0c884cd2-0401-4199-9058-e99ce72c42ce"
      },
      "execution_count": 7,
      "outputs": [
        {
          "output_type": "display_data",
          "data": {
            "text/plain": [
              "<Figure size 640x480 with 12 Axes>"
            ],
            "image/png": "[encoded data removed]"
          },
          "metadata": {}
        }
      ]
    },
    {
      "cell_type": "markdown",
      "source": [
        "**Implement K-NN with Scikit-Learn**"
      ],
      "metadata": {
        "id": "U0LfcK-HdumG"
      }
    },
    {
      "cell_type": "code",
      "source": [
        "# Import necessary libraries\n",
        "from sklearn.model_selection import train_test_split\n",
        "from sklearn.preprocessing import StandardScaler\n",
        "from sklearn.neighbors import KNeighborsClassifier\n",
        "from sklearn.metrics import accuracy_score\n",
        "import matplotlib.pyplot as plt\n",
        "import seaborn as sns\n",
        "\n",
        "# Split data into features and label\n",
        "## Features: Age\tGender\tAir Pollution\tAlcohol Usage\tGenetic Risk\tLung Disease\n",
        "##           Obesity\tSmoking\tPassive Smoker\tChest Pain\tCoughing of Blood\n",
        "## Label:    Severity\n",
        "X = df[['Age','Gender','Air Pollution','Alcohol Usage','Genetic Risk',\n",
        "        'Lung Disease','Obesity','Smoking','Passive Smoker','Chest Pain',\n",
        "        'Coughing of Blood']]\n",
        "y = df['Severity']\n",
        "\n",
        "# Split data into training and testing sets\n",
        "X_train, X_test, y_train, y_test = train_test_split(X, y, test_size = 0.2,\n",
        "                                                    random_state = 42)\n",
        "\n",
        "# Scale features\n",
        "scaler = StandardScaler()\n",
        "X_train = scaler.fit_transform(X_train)\n",
        "X_test = scaler.transform(X_test)\n",
        "\n",
        "# Distance metric used\n",
        "met = 'manhattan'\n",
        "\n",
        "# Check error rate for k = 1 to 40\n",
        "error_rate = []\n",
        "\n",
        "for k in range(1, 40):\n",
        "  knn = KNeighborsClassifier(n_neighbors = k, metric = met)\n",
        "  knn.fit(X_train, y_train)\n",
        "  y_pred = knn.predict(X_test)\n",
        "  error_rate.append(1 - accuracy_score(y_test, y_pred))\n",
        "\n",
        "# Plot line graph of error rate\n",
        "sns.lineplot(error_rate, marker = 'o')\n",
        "plt.grid(True)\n",
        "plt.xlabel('k')\n",
        "plt.ylabel('Error Rate')\n",
        "plt.title('Error Rate vs. k Value\\ntest_size = 0.2; metric = manhattan')\n",
        "\n",
        "plt.show()"
      ],
      "metadata": {
        "colab": {
          "base_uri": "https://localhost:8080/",
          "height": 493
        },
        "id": "hUgMfRmQzLhA",
        "outputId": "8068f3d6-a41f-424d-d7c9-c88cdfce4c68"
      },
      "execution_count": 60,
      "outputs": [
        {
          "output_type": "display_data",
          "data": {
            "text/plain": [
              "<Figure size 640x480 with 1 Axes>"
            ],
            "image/png": "[encoded data removed]"
          },
          "metadata": {}
        }
      ]
    },
    {
      "cell_type": "code",
      "source": [
        "# Import necessary libraries\n",
        "from sklearn.model_selection import train_test_split\n",
        "from sklearn.preprocessing import StandardScaler\n",
        "from sklearn.neighbors import KNeighborsClassifier\n",
        "from sklearn.metrics import classification_report, confusion_matrix\n",
        "\n",
        "# Scale features\n",
        "scaler = StandardScaler()\n",
        "X_train = scaler.fit_transform(X_train)\n",
        "X_test = scaler.transform(X_test)\n",
        "\n",
        "# Distance metric used\n",
        "met = 'manhattan'\n",
        "\n",
        "# Initialize K-NN classifier and fit the model\n",
        "knn = KNeighborsClassifier(n_neighbors = 1, metric = met)   # Set K = 1 (lowest error rate)\n",
        "knn.fit(X_train, y_train)                                   # Set metric = 'manhattan'\n",
        "\n",
        "# Predict using test data\n",
        "y_pred = knn.predict(X_test)\n",
        "\n",
        "# Evaluate the model\n",
        "print(confusion_matrix(y_test, y_pred))\n",
        "print(classification_report(y_test, y_pred))\n",
        "\n",
        "# Visualize K-NN results using confusion matrix heatmap\n",
        "import seaborn as sns\n",
        "import matplotlib.pyplot as plt\n",
        "\n",
        "# Get unique classes\n",
        "classes = df['Severity'].unique()\n",
        "\n",
        "# Plotting the confusion matrix\n",
        "sns.heatmap(confusion_matrix(y_test, y_pred, labels = classes), annot = True,\n",
        "            fmt = 'g', xticklabels = classes, yticklabels = classes,\n",
        "            cmap = 'Blues')\n",
        "\n",
        "plt.xlabel('Predicted')\n",
        "plt.ylabel('Actual')\n",
        "plt.title('Confusion Matrix\\nk = 1; metric = manhattan')\n",
        "\n",
        "plt.show()"
      ],
      "metadata": {
        "id": "tOXwrcNdbV7Q",
        "colab": {
          "base_uri": "https://localhost:8080/",
          "height": 761
        },
        "outputId": "5c82c306-449a-42a2-fb77-75617976bf00"
      },
      "execution_count": 61,
      "outputs": [
        {
          "output_type": "stream",
          "name": "stdout",
          "text": [
            "[[57  0  0  0]\n",
            " [ 0 58  0  0]\n",
            " [ 0  0 80  0]\n",
            " [ 1  3  0 94]]\n",
            "              precision    recall  f1-score   support\n",
            "\n",
            "           0       0.98      1.00      0.99        57\n",
            "           1       0.95      1.00      0.97        58\n",
            "           2       1.00      1.00      1.00        80\n",
            "           3       1.00      0.96      0.98        98\n",
            "\n",
            "    accuracy                           0.99       293\n",
            "   macro avg       0.98      0.99      0.99       293\n",
            "weighted avg       0.99      0.99      0.99       293\n",
            "\n"
          ]
        },
        {
          "output_type": "display_data",
          "data": {
            "text/plain": [
              "<Figure size 640x480 with 2 Axes>"
            ],
            "image/png": "[encoded data removed]"
          },
          "metadata": {}
        }
      ]
    },
    {
      "cell_type": "code",
      "source": [
        "# Permutation for feature importance with K-NN for classification\n",
        "from sklearn.datasets import make_classification\n",
        "from sklearn.neighbors import KNeighborsClassifier\n",
        "from sklearn.inspection import permutation_importance\n",
        "\n",
        "# Fit the model\n",
        "results = permutation_importance(knn, X_train, y_train, scoring = 'accuracy')\n",
        "# Get importance\n",
        "importance = results.importances_mean\n",
        "# Summarize feature importance\n",
        "for i,v in enumerate(importance):\n",
        "  print('Feature: %0d, Score: %.5f' % (i,v))\n",
        "# Plot feature importance\n",
        "plt.bar([x for x in range(len(importance))], importance)\n",
        "plt.show()"
      ],
      "metadata": {
        "colab": {
          "base_uri": "https://localhost:8080/",
          "height": 626
        },
        "id": "_PVooeIvWOi4",
        "outputId": "3f58d5ac-578b-4b53-e9b3-a82e83fe5f89"
      },
      "execution_count": 55,
      "outputs": [
        {
          "output_type": "stream",
          "name": "stdout",
          "text": [
            "Feature: 0, Score: 0.01706\n",
            "Feature: 1, Score: 0.01638\n",
            "Feature: 2, Score: 0.02662\n",
            "Feature: 3, Score: 0.00904\n",
            "Feature: 4, Score: 0.00000\n",
            "Feature: 5, Score: 0.00444\n",
            "Feature: 6, Score: 0.00000\n",
            "Feature: 7, Score: 0.00000\n",
            "Feature: 8, Score: 0.00000\n",
            "Feature: 9, Score: 0.00000\n",
            "Feature: 10, Score: 0.00000\n"
          ]
        },
        {
          "output_type": "display_data",
          "data": {
            "text/plain": [
              "<Figure size 640x480 with 1 Axes>"
            ],
            "image/png": "[encoded data removed]"
          },
          "metadata": {}
        }
      ]
    },
    {
      "cell_type": "code",
      "source": [
        "# Decision tree for feature importance\n",
        "from sklearn.datasets import make_classification\n",
        "from sklearn.tree import DecisionTreeClassifier\n",
        "\n",
        "# Define the model\n",
        "model = DecisionTreeClassifier()\n",
        "# Fit the model\n",
        "model.fit(X_train, y_train)\n",
        "# Get importance\n",
        "importance = model.feature_importances_\n",
        "# Summarize feature importance\n",
        "for i,v in enumerate(importance):\n",
        " print('Feature: %0d, Score: %.5f' % (i,v))\n",
        "# Plot feature importance\n",
        "plt.bar([x for x in range(len(importance))], importance)\n",
        "plt.show()"
      ],
      "metadata": {
        "colab": {
          "base_uri": "https://localhost:8080/",
          "height": 626
        },
        "id": "AQcUcctyij4E",
        "outputId": "7eaa282e-4d0c-417e-cab5-24b96f27372c"
      },
      "execution_count": 54,
      "outputs": [
        {
          "output_type": "stream",
          "name": "stdout",
          "text": [
            "Feature: 0, Score: 0.03320\n",
            "Feature: 1, Score: 0.00000\n",
            "Feature: 2, Score: 0.14370\n",
            "Feature: 3, Score: 0.06539\n",
            "Feature: 4, Score: 0.06481\n",
            "Feature: 5, Score: 0.00405\n",
            "Feature: 6, Score: 0.12236\n",
            "Feature: 7, Score: 0.05182\n",
            "Feature: 8, Score: 0.05223\n",
            "Feature: 9, Score: 0.06000\n",
            "Feature: 10, Score: 0.40244\n"
          ]
        },
        {
          "output_type": "display_data",
          "data": {
            "text/plain": [
              "<Figure size 640x480 with 1 Axes>"
            ],
            "image/png": "[encoded data removed]"
          },
          "metadata": {}
        }
      ]
    }
  ]
}