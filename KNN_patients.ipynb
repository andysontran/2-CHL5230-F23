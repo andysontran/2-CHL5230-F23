{
  "nbformat": 4,
  "nbformat_minor": 0,
  "metadata": {
    "colab": {
      "provenance": [],
      "authorship_tag": "ABX9TyPCPwgQaD4/jrIt5BECZUt9",
      "include_colab_link": true
    },
    "kernelspec": {
      "name": "python3",
      "display_name": "Python 3"
    },
    "language_info": {
      "name": "python"
    }
  },
  "cells": [
    {
      "cell_type": "markdown",
      "metadata": {
        "id": "view-in-github",
        "colab_type": "text"
      },
      "source": [
        "<a href=\"https://colab.research.google.com/github/andysontran/2-CHL5230-F23/blob/main/KNN_patients.ipynb\" target=\"_parent\"><img src=\"https://colab.research.google.com/assets/colab-badge.svg\" alt=\"Open In Colab\"/></a>"
      ]
    },
    {
      "cell_type": "code",
      "source": [],
      "metadata": {
        "id": "Dw-E8h9oCW6k"
      },
      "execution_count": null,
      "outputs": []
    },
    {
      "cell_type": "code",
      "execution_count": 24,
      "metadata": {
        "id": "fMwsDcVF2yfD"
      },
      "outputs": [],
      "source": [
        "import pandas as pd\n",
        "from sklearn.model_selection import train_test_split\n",
        "from sklearn.preprocessing import StandardScaler, LabelEncoder\n",
        "from sklearn.neighbors import KNeighborsClassifier\n",
        "from sklearn.metrics import classification_report, confusion_matrix"
      ]
    },
    {
      "cell_type": "code",
      "source": [
        "df = pd.read_csv('ethiopia.csv')"
      ],
      "metadata": {
        "id": "10JdGEwS3BSI"
      },
      "execution_count": 25,
      "outputs": []
    },
    {
      "cell_type": "code",
      "source": [
        "\n",
        "y = df['Severity']\n",
        "\n",
        "X= df.drop('Severity', axis=1)\n",
        "\n"
      ],
      "metadata": {
        "id": "G4YtSpIU38Rs"
      },
      "execution_count": 26,
      "outputs": []
    },
    {
      "cell_type": "code",
      "source": [],
      "metadata": {
        "id": "5IGQg58144Xx"
      },
      "execution_count": null,
      "outputs": []
    },
    {
      "cell_type": "code",
      "source": [],
      "metadata": {
        "id": "rHCuOI31Qj79"
      },
      "execution_count": null,
      "outputs": []
    },
    {
      "cell_type": "code",
      "execution_count": 27,
      "metadata": {
        "colab": {
          "base_uri": "https://localhost:8080/"
        },
        "id": "6CrB-hsqTzoJ",
        "outputId": "19138b6a-facd-4107-edb4-e1b7cc7a9aa4"
      },
      "outputs": [
        {
          "output_type": "stream",
          "name": "stdout",
          "text": [
            "Sample data:\n",
            "   Age  Gender  Air Pollution  Alcohol Usage  Genetic Risk  Lung Disease  \\\n",
            "0   33       1              2              4             3             2   \n",
            "1   17       1              3              1             4             2   \n",
            "2   35       1              4              5             5             4   \n",
            "3   37       1              7              7             6             7   \n",
            "4   46       1              6              8             7             6   \n",
            "\n",
            "   Obesity  Smoking  Passive Smoker  Chest Pain  Coughing of Blood  \n",
            "0        4        3               2           2                  4  \n",
            "1        2        2               4           2                  3  \n",
            "2        7        2               3           4                  8  \n",
            "3        7        7               7           7                  8  \n",
            "4        7        8               7           7                  9  \n",
            "\n",
            "Corresponding labels:\n",
            "0    0\n",
            "1    1\n",
            "2    2\n",
            "3    2\n",
            "4    2\n",
            "Name: Severity, dtype: int64\n"
          ]
        }
      ],
      "source": [
        "# Import necessary libraries\n",
        "\n",
        "import numpy as np\n",
        "from sklearn import datasets\n",
        "from sklearn.model_selection import train_test_split\n",
        "from sklearn.neighbors import KNeighborsClassifier\n",
        "from sklearn.metrics import accuracy_score\n",
        "import matplotlib.pyplot as plt\n",
        "\n",
        "# Import additional libraries for data manipulation and visualization\n",
        "import pandas as pd\n",
        "import seaborn as sns\n",
        "\n",
        "\n",
        "\n",
        "# A brief look into the dataset\n",
        "print(\"Sample data:\")\n",
        "print(X[:5])  # Displaying first 5 rows of the data\n",
        "print(\"\\nCorresponding labels:\")\n",
        "print(y[:5])  # Displaying first 5 labels\n",
        "\n",
        "\n",
        "\n"
      ]
    },
    {
      "cell_type": "code",
      "source": [],
      "metadata": {
        "id": "LvE3o_BeRdPq"
      },
      "execution_count": null,
      "outputs": []
    },
    {
      "cell_type": "code",
      "source": [
        "# Split dataset into training set and test set\n",
        "# We are reserving 30% of the data for testing and 70% for training.\n",
        "X_train, X_test, y_train, y_test = train_test_split(X, y, test_size=0.2, random_state=1)\n",
        "\n",
        "# Choose a range of k values to test. In this case, we'll test values from 1 to 49.\n",
        "k_values = range(1, 50)\n",
        "\n",
        "# A list to keep track of the error rates for each k value.\n",
        "errors = []\n",
        "\n",
        "# Loop over k_values to train and test the KNN classifier\n",
        "for k in k_values:\n",
        "    # Initialize a KNN classifier with current k value.\n",
        "    knn = KNeighborsClassifier(n_neighbors=k)\n",
        "\n",
        "    # Train the classifier on the training data.\n",
        "    knn.fit(X_train, y_train)\n",
        "\n",
        "    # Predict the labels for the test set.\n",
        "    y_pred = knn.predict(X_test)\n",
        "\n",
        "    # Calculate the error rate: 1 - accuracy.\n",
        "    error = 1 - accuracy_score(y_test, y_pred)\n",
        "    errors.append(error)\n"
      ],
      "metadata": {
        "id": "ESOmfg2XlXio"
      },
      "execution_count": 28,
      "outputs": []
    },
    {
      "cell_type": "code",
      "source": [],
      "metadata": {
        "id": "h2cWCiMXSPL9"
      },
      "execution_count": null,
      "outputs": []
    },
    {
      "cell_type": "code",
      "source": [
        "# Plotting\n",
        "# This visualization helps in understanding the relationship between k value and the error rate.\n",
        "plt.figure(figsize=(12, 6))\n",
        "plt.plot(k_values, errors, marker='o')\n",
        "plt.title('Error Rate vs. k Value')\n",
        "plt.xlabel('k')\n",
        "plt.ylabel('Error Rate')\n",
        "plt.grid(True)\n",
        "plt.show()"
      ],
      "metadata": {
        "colab": {
          "base_uri": "https://localhost:8080/",
          "height": 564
        },
        "id": "4SfwdTJplY8R",
        "outputId": "dd00cd80-ab15-41a3-8bc8-0eebcb8ebb13"
      },
      "execution_count": 29,
      "outputs": [
        {
          "output_type": "display_data",
          "data": {
            "text/plain": [
              "<Figure size 1200x600 with 1 Axes>"
            ],
            "image/png": "[encoded data removed]"
          },
          "metadata": {}
        }
      ]
    },
    {
      "cell_type": "code",
      "source": [
        "X_train, X_test, y_train, y_test = train_test_split(X, y, test_size=0.2, random_state=42)\n",
        "\n",
        "\n",
        "scaler = StandardScaler()\n",
        "X_train = scaler.fit_transform(X_train)\n",
        "X_test = scaler.transform(X_test)"
      ],
      "metadata": {
        "id": "XrZaz3NnU7hX"
      },
      "execution_count": 36,
      "outputs": []
    },
    {
      "cell_type": "markdown",
      "source": [
        "Apply KNN"
      ],
      "metadata": {
        "id": "1TGPKP0pVZbA"
      }
    },
    {
      "cell_type": "code",
      "source": [],
      "metadata": {
        "id": "NZgEVg_RRtLL"
      },
      "execution_count": 31,
      "outputs": []
    },
    {
      "cell_type": "code",
      "source": [
        "  \"colab\": {\n",
        "      \"provenance\": [],\n",
        "      \"history_visible\": true,\n",
        "      \"authorship_tag\": \"ABX9TyMtMs47OVyFi7CmuJ//ulhg\",\n",
        "      \"authorship_tag\": \"ABX9TyPaB1BbgeMt8vSVqJi/Oo5y\",\n",
        "      \"include_colab_link\": true\n",
        "    },\n",
        "    \"kernelspec\": {"
      ],
      "metadata": {
        "colab": {
          "base_uri": "https://localhost:8080/",
          "height": 141
        },
        "id": "iB7QEgI2kuBT",
        "outputId": "be1bcbd6-9501-4ec7-c8ed-906924d324a9"
      },
      "execution_count": 32,
      "outputs": [
        {
          "output_type": "error",
          "ename": "SyntaxError",
          "evalue": "ignored",
          "traceback": [
            "\u001b[0;36m  File \u001b[0;32m\"<ipython-input-32-0d30caebbf18>\"\u001b[0;36m, line \u001b[0;32m1\u001b[0m\n\u001b[0;31m    \"colab\": {\u001b[0m\n\u001b[0m    ^\u001b[0m\n\u001b[0;31mSyntaxError\u001b[0m\u001b[0;31m:\u001b[0m illegal target for annotation\n"
          ]
        }
      ]
    },
    {
      "cell_type": "code",
      "source": [
        "X_test = scaler.transform(X_test),\n",
        "        # Initialize K-NN classifier and fit the model,\n",
        "knn=KNeighborsClassifier(n_neighbors = 1, metric = 'manhattan')   # Set K = 1,\n",
        "knn = KNeighborsClassifier(n_neighbors = 1, metric = 'manhattan')   # Set K = 1 (lowest error rate),\n",
        "knn.fit(X_train, y_train)\n",
        ""
      ],
      "metadata": {
        "colab": {
          "base_uri": "https://localhost:8080/",
          "height": 109
        },
        "id": "VRaCMCzYiJpe",
        "outputId": "1a074175-2bec-4d0e-99fb-5fb937100d7c"
      },
      "execution_count": 37,
      "outputs": [
        {
          "output_type": "stream",
          "name": "stderr",
          "text": [
            "/usr/local/lib/python3.10/dist-packages/sklearn/base.py:439: UserWarning: X does not have valid feature names, but StandardScaler was fitted with feature names\n",
            "  warnings.warn(\n"
          ]
        },
        {
          "output_type": "execute_result",
          "data": {
            "text/plain": [
              "KNeighborsClassifier(metric='manhattan', n_neighbors=1)"
            ],
            "text/html": [
              "<style>#sk-container-id-3 {color: black;background-color: white;}#sk-container-id-3 pre{padding: 0;}#sk-container-id-3 div.sk-toggleable {background-color: white;}#sk-container-id-3 label.sk-toggleable__label {cursor: pointer;display: block;width: 100%;margin-bottom: 0;padding: 0.3em;box-sizing: border-box;text-align: center;}#sk-container-id-3 label.sk-toggleable__label-arrow:before {content: \"▸\";float: left;margin-right: 0.25em;color: #696969;}#sk-container-id-3 label.sk-toggleable__label-arrow:hover:before {color: black;}#sk-container-id-3 div.sk-estimator:hover label.sk-toggleable__label-arrow:before {color: black;}#sk-container-id-3 div.sk-toggleable__content {max-height: 0;max-width: 0;overflow: hidden;text-align: left;background-color: #f0f8ff;}#sk-container-id-3 div.sk-toggleable__content pre {margin: 0.2em;color: black;border-radius: 0.25em;background-color: #f0f8ff;}#sk-container-id-3 input.sk-toggleable__control:checked~div.sk-toggleable__content {max-height: 200px;max-width: 100%;overflow: auto;}#sk-container-id-3 input.sk-toggleable__control:checked~label.sk-toggleable__label-arrow:before {content: \"▾\";}#sk-container-id-3 div.sk-estimator input.sk-toggleable__control:checked~label.sk-toggleable__label {background-color: #d4ebff;}#sk-container-id-3 div.sk-label input.sk-toggleable__control:checked~label.sk-toggleable__label {background-color: #d4ebff;}#sk-container-id-3 input.sk-hidden--visually {border: 0;clip: rect(1px 1px 1px 1px);clip: rect(1px, 1px, 1px, 1px);height: 1px;margin: -1px;overflow: hidden;padding: 0;position: absolute;width: 1px;}#sk-container-id-3 div.sk-estimator {font-family: monospace;background-color: #f0f8ff;border: 1px dotted black;border-radius: 0.25em;box-sizing: border-box;margin-bottom: 0.5em;}#sk-container-id-3 div.sk-estimator:hover {background-color: #d4ebff;}#sk-container-id-3 div.sk-parallel-item::after {content: \"\";width: 100%;border-bottom: 1px solid gray;flex-grow: 1;}#sk-container-id-3 div.sk-label:hover label.sk-toggleable__label {background-color: #d4ebff;}#sk-container-id-3 div.sk-serial::before {content: \"\";position: absolute;border-left: 1px solid gray;box-sizing: border-box;top: 0;bottom: 0;left: 50%;z-index: 0;}#sk-container-id-3 div.sk-serial {display: flex;flex-direction: column;align-items: center;background-color: white;padding-right: 0.2em;padding-left: 0.2em;position: relative;}#sk-container-id-3 div.sk-item {position: relative;z-index: 1;}#sk-container-id-3 div.sk-parallel {display: flex;align-items: stretch;justify-content: center;background-color: white;position: relative;}#sk-container-id-3 div.sk-item::before, #sk-container-id-3 div.sk-parallel-item::before {content: \"\";position: absolute;border-left: 1px solid gray;box-sizing: border-box;top: 0;bottom: 0;left: 50%;z-index: -1;}#sk-container-id-3 div.sk-parallel-item {display: flex;flex-direction: column;z-index: 1;position: relative;background-color: white;}#sk-container-id-3 div.sk-parallel-item:first-child::after {align-self: flex-end;width: 50%;}#sk-container-id-3 div.sk-parallel-item:last-child::after {align-self: flex-start;width: 50%;}#sk-container-id-3 div.sk-parallel-item:only-child::after {width: 0;}#sk-container-id-3 div.sk-dashed-wrapped {border: 1px dashed gray;margin: 0 0.4em 0.5em 0.4em;box-sizing: border-box;padding-bottom: 0.4em;background-color: white;}#sk-container-id-3 div.sk-label label {font-family: monospace;font-weight: bold;display: inline-block;line-height: 1.2em;}#sk-container-id-3 div.sk-label-container {text-align: center;}#sk-container-id-3 div.sk-container {/* jupyter's `normalize.less` sets `[hidden] { display: none; }` but bootstrap.min.css set `[hidden] { display: none !important; }` so we also need the `!important` here to be able to override the default hidden behavior on the sphinx rendered scikit-learn.org. See: https://github.com/scikit-learn/scikit-learn/issues/21755 */display: inline-block !important;position: relative;}#sk-container-id-3 div.sk-text-repr-fallback {display: none;}</style><div id=\"sk-container-id-3\" class=\"sk-top-container\"><div class=\"sk-text-repr-fallback\"><pre>KNeighborsClassifier(metric=&#x27;manhattan&#x27;, n_neighbors=1)</pre><b>In a Jupyter environment, please rerun this cell to show the HTML representation or trust the notebook. <br />On GitHub, the HTML representation is unable to render, please try loading this page with nbviewer.org.</b></div><div class=\"sk-container\" hidden><div class=\"sk-item\"><div class=\"sk-estimator sk-toggleable\"><input class=\"sk-toggleable__control sk-hidden--visually\" id=\"sk-estimator-id-3\" type=\"checkbox\" checked><label for=\"sk-estimator-id-3\" class=\"sk-toggleable__label sk-toggleable__label-arrow\">KNeighborsClassifier</label><div class=\"sk-toggleable__content\"><pre>KNeighborsClassifier(metric=&#x27;manhattan&#x27;, n_neighbors=1)</pre></div></div></div></div></div>"
            ]
          },
          "metadata": {},
          "execution_count": 37
        }
      ]
    },
    {
      "cell_type": "code",
      "source": [],
      "metadata": {
        "id": "vo26mpd5ktgG"
      },
      "execution_count": null,
      "outputs": []
    },
    {
      "cell_type": "code",
      "source": [],
      "metadata": {
        "id": "NyB_RyhZkaiN"
      },
      "execution_count": null,
      "outputs": []
    },
    {
      "cell_type": "code",
      "source": [],
      "metadata": {
        "id": "1p-I7RO-jtai"
      },
      "execution_count": null,
      "outputs": []
    },
    {
      "cell_type": "markdown",
      "source": [
        "Evaluate the model"
      ],
      "metadata": {
        "id": "hskSNa4IVfUX"
      }
    },
    {
      "cell_type": "code",
      "source": [
        "print(confusion_matrix(y_test, y_pred))\n",
        "print(classification_report(y_test, y_pred))"
      ],
      "metadata": {
        "colab": {
          "base_uri": "https://localhost:8080/"
        },
        "id": "-7ciafolVi1r",
        "outputId": "e06f2e75-a251-441e-864a-624c34af50c6"
      },
      "execution_count": 34,
      "outputs": [
        {
          "output_type": "stream",
          "name": "stdout",
          "text": [
            "[[54  0  0  3]\n",
            " [ 0 58  0  0]\n",
            " [ 0  0 80  0]\n",
            " [ 2  2  0 94]]\n",
            "              precision    recall  f1-score   support\n",
            "\n",
            "           0       0.96      0.95      0.96        57\n",
            "           1       0.97      1.00      0.98        58\n",
            "           2       1.00      1.00      1.00        80\n",
            "           3       0.97      0.96      0.96        98\n",
            "\n",
            "    accuracy                           0.98       293\n",
            "   macro avg       0.98      0.98      0.98       293\n",
            "weighted avg       0.98      0.98      0.98       293\n",
            "\n"
          ]
        }
      ]
    },
    {
      "cell_type": "code",
      "source": [
        "import matplotlib.pyplot as plt\n",
        "\n",
        "# Get unique classes\n",
        "classes = df['Severity'].unique()\n",
        "\n",
        "# Plotting the confusion matrix\n",
        "plt.figure(figsize=(7,5))\n",
        "sns.heatmap(confusion_matrix(y_test, y_pred, labels=classes), cmap='Purples', annot=True, fmt='g', xticklabels=classes, yticklabels=classes)\n",
        "plt.xlabel('Predicted')\n",
        "plt.ylabel('Actual')\n",
        "plt.title('Confusion Matrix')\n",
        "plt.show()"
      ],
      "metadata": {
        "colab": {
          "base_uri": "https://localhost:8080/",
          "height": 487
        },
        "id": "DITDLMa2Vx9b",
        "outputId": "6e2ddfcd-008c-467c-dd98-dbb94752a4d5"
      },
      "execution_count": 38,
      "outputs": [
        {
          "output_type": "display_data",
          "data": {
            "text/plain": [
              "<Figure size 700x500 with 2 Axes>"
            ],
            "image/png": "[encoded data removed]"
          },
          "metadata": {}
        }
      ]
    },
    {
      "cell_type": "code",
      "source": [
        "# Permutation feature importance with K-NN for classification\n",
        "from sklearn.datasets import make_classification\n",
        "from sklearn.neighbors import KNeighborsClassifier\n",
        "from sklearn.inspection import permutation_importance\n",
        "from matplotlib import pyplot\n",
        "\n",
        "# Fit the model\n",
        "results = permutation_importance(knn, X_train, y_train, scoring = 'accuracy')\n",
        "\n",
        "importance = results.importances_mean\n",
        "\n",
        "for i,v in enumerate(importance):\n",
        "  print('Feature: %0d, Score: %.5f' % (i,v))\n",
        "\n",
        "pyplot.bar([x for x in range(len(importance))], importance)\n",
        "pyplot.show()"
      ],
      "metadata": {
        "colab": {
          "base_uri": "https://localhost:8080/",
          "height": 621
        },
        "id": "n-umqtwViABC",
        "outputId": "80015d44-0cf3-4e90-9ed3-d3be8dbca4f7"
      },
      "execution_count": 39,
      "outputs": [
        {
          "output_type": "stream",
          "name": "stdout",
          "text": [
            "Feature: 0, Score: 0.01843\n",
            "Feature: 1, Score: 0.01621\n",
            "Feature: 2, Score: 0.02713\n",
            "Feature: 3, Score: 0.01126\n",
            "Feature: 4, Score: 0.00000\n",
            "Feature: 5, Score: 0.00324\n",
            "Feature: 6, Score: 0.00000\n",
            "Feature: 7, Score: 0.00000\n",
            "Feature: 8, Score: 0.00000\n",
            "Feature: 9, Score: 0.00000\n",
            "Feature: 10, Score: 0.00000\n"
          ]
        },
        {
          "output_type": "display_data",
          "data": {
            "text/plain": [
              "<Figure size 640x480 with 1 Axes>"
            ],
            "image/png": "[encoded data removed]"
          },
          "metadata": {}
        }
      ]
    }
  ]
}